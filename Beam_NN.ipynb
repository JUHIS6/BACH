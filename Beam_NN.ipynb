{
 "cells": [
  {
   "cell_type": "code",
   "execution_count": 6,
   "id": "acc7a5b5",
   "metadata": {},
   "outputs": [],
   "source": [
    "import numpy as np\n",
    "import matplotlib.pyplot as plt\n",
    "import pandas as pd  \n",
    "import clamped_beam as cbe\n",
    "\n",
    "\n",
    "import keras\n",
    "import keras.backend as K\n",
    "from keras.models import Sequential\n",
    "from keras.layers import Dropout\n",
    "from keras.layers.core import Dense\n",
    "from keras.optimizers import Adam\n",
    "\n",
    "from random import randint\n",
    "import tensorflow as tf\n",
    "\n",
    "configuration = tf.compat.v1.ConfigProto()\n",
    "configuration.gpu_options.allow_growth = True\n",
    "session = tf.compat.v1.Session(config=configuration)"
   ]
  },
  {
   "cell_type": "code",
   "execution_count": 2,
   "id": "471a2c7d",
   "metadata": {},
   "outputs": [
    {
     "name": "stdout",
     "output_type": "stream",
     "text": [
      "FEM: end displacement is 62.5 mm, rotation 5.371 deg\n",
      "MBD: end displacement is 61.972 mm, rotation 5.335 deg\n",
      "1001\n",
      "done simulating!\n",
      "               0             1             2    3             4   \\\n",
      "0    0.000000e+00  0.000000e+00  0.000000e+00  1.0  0.000000e+00   \n",
      "1    0.000000e+00  0.000000e+00 -6.656024e-27  1.0  2.587248e-47   \n",
      "2    0.000000e+00  0.000000e+00  8.966871e-27  1.0 -6.733023e-42   \n",
      "3    0.000000e+00  0.000000e+00  4.995394e-25  1.0 -2.417151e-42   \n",
      "4    0.000000e+00  0.000000e+00  1.621384e-24  1.0 -8.888855e-42   \n",
      "..            ...           ...           ...  ...           ...   \n",
      "995 -1.492389e-25  7.245822e-23  1.546946e-09  1.0 -3.652837e-18   \n",
      "996 -1.474686e-25  7.260300e-23  1.554169e-09  1.0 -3.630147e-18   \n",
      "997 -1.456982e-25  7.274778e-23  1.560841e-09  1.0 -3.601180e-18   \n",
      "998 -1.439278e-25  7.289256e-23  1.567008e-09  1.0 -3.561434e-18   \n",
      "999 -1.421574e-25  7.303734e-23  1.572715e-09  1.0 -3.506406e-18   \n",
      "\n",
      "               5             6         7             8             9   ...  \\\n",
      "0    0.000000e+00  0.000000e+00  0.500000  0.000000e+00  0.000000e+00  ...   \n",
      "1   -7.240157e-29 -3.636893e-28  0.500000  1.488379e-10  2.298776e-24  ...   \n",
      "2   -2.769000e-27 -3.186013e-25  0.500000  3.189306e-09  5.331162e-23  ...   \n",
      "3   -1.136247e-26 -5.582791e-26  0.500000  1.314929e-08  1.460668e-22  ...   \n",
      "4   -2.503047e-26  4.407598e-25  0.500000  4.279643e-08  5.289332e-22  ...   \n",
      "..            ...           ...       ...           ...           ...  ...   \n",
      "995 -1.588076e-11 -4.430856e-10  0.499547  2.323793e-02  4.236372e-09  ...   \n",
      "996 -1.587557e-11 -4.533024e-10  0.499547  2.323793e-02  4.258207e-09  ...   \n",
      "997 -1.582383e-11 -4.615018e-10  0.499547  2.323793e-02  4.275515e-09  ...   \n",
      "998 -1.571050e-11 -4.671272e-10  0.499547  2.323793e-02  4.288816e-09  ...   \n",
      "999 -1.552053e-11 -4.696221e-10  0.499547  2.323793e-02  4.298627e-09  ...   \n",
      "\n",
      "               41            42            43            44            45  \\\n",
      "0    0.000000e+00  0.000000e+00  0.000000e+00  0.000000e+00  0.000000e+00   \n",
      "1   -1.566605e-07 -6.959879e-09  3.687134e-08 -8.147696e-09  1.026423e-08   \n",
      "2   -5.220467e-07 -3.399333e-08  1.800864e-07 -2.364102e-08  2.978227e-08   \n",
      "3   -8.237459e-07 -9.802066e-08  5.192839e-07 -1.717027e-08  2.163061e-08   \n",
      "4   -8.545589e-07 -2.119069e-07  1.122619e-06  3.402633e-08 -4.286538e-08   \n",
      "..            ...           ...           ...           ...           ...   \n",
      "995 -7.140522e-10  1.343033e-11 -5.337861e-10 -1.911307e-10  3.937865e-12   \n",
      "996 -1.013503e-09  8.495814e-11 -4.701816e-10 -2.089008e-10  1.117112e-10   \n",
      "997 -1.612935e-09  1.921240e-10 -5.191544e-10 -2.690250e-10  2.693163e-10   \n",
      "998 -2.508910e-09  3.539954e-10 -7.167398e-10 -3.734550e-10  4.644655e-10   \n",
      "999 -3.697993e-09  5.896399e-10 -1.098973e-09 -5.241423e-10  6.848710e-10   \n",
      "\n",
      "               46            47            48            49            50  \n",
      "0    0.000000e+00  0.000000e+00  0.000000e+00  0.000000e+00  0.000000e+00  \n",
      "1   -2.862573e-30  5.118990e-10  4.565805e-11  1.101776e-18  8.620971e-10  \n",
      "2    1.171329e-27  8.871394e-09  7.912705e-10  2.436921e-16  1.283750e-08  \n",
      "3   -2.196335e-27  5.018737e-08  4.476386e-09 -5.670040e-17  5.082191e-08  \n",
      "4   -3.173122e-26  1.439853e-07  1.284255e-08 -3.857497e-15  1.509960e-07  \n",
      "..            ...           ...           ...           ...           ...  \n",
      "995 -2.551987e-11 -5.001388e-11 -4.140736e-11 -4.586483e-12  6.197196e-02  \n",
      "996 -2.819747e-11 -1.063125e-10 -2.547114e-11 -1.758763e-12  6.197197e-02  \n",
      "997 -3.083516e-11 -1.993864e-10 -1.052558e-11  1.113633e-12  6.197197e-02  \n",
      "998 -3.359290e-11 -3.234760e-10  5.591346e-12  3.213893e-12  6.197197e-02  \n",
      "999 -3.663064e-11 -4.728217e-10  2.504164e-11  3.725206e-12  6.197197e-02  \n",
      "\n",
      "[1000 rows x 51 columns]\n",
      "                0             1             2    3             4   \\\n",
      "1     0.000000e+00  0.000000e+00 -6.656024e-27  1.0  2.587248e-47   \n",
      "2     0.000000e+00  0.000000e+00  8.966871e-27  1.0 -6.733023e-42   \n",
      "3     0.000000e+00  0.000000e+00  4.995394e-25  1.0 -2.417151e-42   \n",
      "4     0.000000e+00  0.000000e+00  1.621384e-24  1.0 -8.888855e-42   \n",
      "5     0.000000e+00  0.000000e+00  3.710208e-24  1.0 -4.565964e-41   \n",
      "...            ...           ...           ...  ...           ...   \n",
      "996  -1.474686e-25  7.260300e-23  1.554169e-09  1.0 -3.630147e-18   \n",
      "997  -1.456982e-25  7.274778e-23  1.560841e-09  1.0 -3.601180e-18   \n",
      "998  -1.439278e-25  7.289256e-23  1.567008e-09  1.0 -3.561434e-18   \n",
      "999  -1.421574e-25  7.303734e-23  1.572715e-09  1.0 -3.506406e-18   \n",
      "1000 -1.403871e-25  7.318212e-23  1.578006e-09  1.0 -3.431595e-18   \n",
      "\n",
      "                5             6         7             8             9   ...  \\\n",
      "1    -7.240157e-29 -3.636893e-28  0.500000  1.488379e-10  2.298776e-24  ...   \n",
      "2    -2.769000e-27 -3.186013e-25  0.500000  3.189306e-09  5.331162e-23  ...   \n",
      "3    -1.136247e-26 -5.582791e-26  0.500000  1.314929e-08  1.460668e-22  ...   \n",
      "4    -2.503047e-26  4.407598e-25  0.500000  4.279643e-08  5.289332e-22  ...   \n",
      "5    -4.469279e-26  8.437310e-25  0.500000  1.054134e-07  1.480007e-21  ...   \n",
      "...            ...           ...       ...           ...           ...  ...   \n",
      "996  -1.587557e-11 -4.533024e-10  0.499547  2.323793e-02  4.258207e-09  ...   \n",
      "997  -1.582383e-11 -4.615018e-10  0.499547  2.323793e-02  4.275515e-09  ...   \n",
      "998  -1.571050e-11 -4.671272e-10  0.499547  2.323793e-02  4.288816e-09  ...   \n",
      "999  -1.552053e-11 -4.696221e-10  0.499547  2.323793e-02  4.298627e-09  ...   \n",
      "1000 -1.523888e-11 -4.684299e-10  0.499547  2.323793e-02  4.305470e-09  ...   \n",
      "\n",
      "                41            42            43            44            45  \\\n",
      "1    -1.566605e-07 -6.959879e-09  3.687134e-08 -8.147696e-09  1.026423e-08   \n",
      "2    -5.220467e-07 -3.399333e-08  1.800864e-07 -2.364102e-08  2.978227e-08   \n",
      "3    -8.237459e-07 -9.802066e-08  5.192839e-07 -1.717027e-08  2.163061e-08   \n",
      "4    -8.545589e-07 -2.119069e-07  1.122619e-06  3.402633e-08 -4.286538e-08   \n",
      "5    -4.135131e-07 -3.880978e-07  2.056025e-06  1.520090e-07 -1.914965e-07   \n",
      "...            ...           ...           ...           ...           ...   \n",
      "996  -1.013503e-09  8.495814e-11 -4.701816e-10 -2.089008e-10  1.117112e-10   \n",
      "997  -1.612935e-09  1.921240e-10 -5.191544e-10 -2.690250e-10  2.693163e-10   \n",
      "998  -2.508910e-09  3.539954e-10 -7.167398e-10 -3.734550e-10  4.644655e-10   \n",
      "999  -3.697993e-09  5.896399e-10 -1.098973e-09 -5.241423e-10  6.848710e-10   \n",
      "1000 -5.176746e-09  9.181250e-10 -1.701890e-09 -7.230385e-10  9.182453e-10   \n",
      "\n",
      "                46            47            48            49            50  \n",
      "1    -2.862573e-30  5.118990e-10  4.565805e-11  1.101776e-18  8.620971e-10  \n",
      "2     1.171329e-27  8.871394e-09  7.912705e-10  2.436921e-16  1.283750e-08  \n",
      "3    -2.196335e-27  5.018737e-08  4.476386e-09 -5.670040e-17  5.082191e-08  \n",
      "4    -3.173122e-26  1.439853e-07  1.284255e-08 -3.857497e-15  1.509960e-07  \n",
      "5    -1.117705e-25  3.091754e-07  2.757643e-08 -1.430893e-14  3.507797e-07  \n",
      "...            ...           ...           ...           ...           ...  \n",
      "996  -2.819747e-11 -1.063125e-10 -2.547114e-11 -1.758763e-12  6.197197e-02  \n",
      "997  -3.083516e-11 -1.993864e-10 -1.052558e-11  1.113633e-12  6.197197e-02  \n",
      "998  -3.359290e-11 -3.234760e-10  5.591346e-12  3.213893e-12  6.197197e-02  \n",
      "999  -3.663064e-11 -4.728217e-10  2.504164e-11  3.725206e-12  6.197197e-02  \n",
      "1000 -4.010834e-11 -6.416639e-10  4.998733e-11  1.830760e-12  6.197197e-02  \n",
      "\n",
      "[1000 rows x 51 columns]\n"
     ]
    },
    {
     "data": {
      "image/png": "[encoded data removed]",
      "text/plain": [
       "<Figure size 432x288 with 1 Axes>"
      ]
     },
     "metadata": {
      "needs_background": "light"
     },
     "output_type": "display_data"
    }
   ],
   "source": [
    "### Creating dataset from data points ###\n",
    "\n",
    "n_elem = 40\n",
    "l = 1\n",
    "h = 0.02\n",
    "E = 2e11\n",
    "nu = 0.3\n",
    "rho = 7801\n",
    "Fy = 500.0\n",
    "\n",
    "\n",
    "vals = cbe.generate(n_elem, l, h, E, nu, rho, Fy) ## Generating the training data with separate module #\n",
    "#vals2 = cbe.generate(n_elem, l, h, E, nu, rho, Fy=700) ## Generating the secound set of data       #\n",
    "print (\"done simulating!\")\n",
    "\n",
    "\n",
    "\n",
    "dframe = pd.DataFrame() ##Creating Pandas DF from data ##\n",
    "\n",
    "for i in range(len(vals[0])):\n",
    "       dframe[i] = pd.DataFrame(vals[0][i])\n",
    "        \n",
    "dframe[50] = pd.DataFrame(vals[1])\n",
    "#print (dframe)\n",
    "\n",
    "# ### Suffle and split data to val and train data ###\n",
    "# dframe_train, validate = \\\n",
    "#               np.split(dframe.sample(frac=1, random_state=42), \n",
    "#                        [int(.9*len(dframe))])\n",
    "\n",
    "\n",
    "# Y = dframe_train.[:-1]\n",
    "# X = dframe_train\n",
    "\n",
    "X = dframe.drop(0)\n",
    "Y = dframe.drop(dframe.shape[0]-1)\n",
    "\n",
    "print (Y)\n",
    "print (X)\n",
    "\n",
    "\n",
    "# x_val = validate \n",
    "# y_val = x_val[50] ## Select matching val data for y_val ##\n",
    "# validation_data=(x_val, y_val)"
   ]
  },
  {
   "cell_type": "code",
   "execution_count": 3,
   "id": "3e5e7351",
   "metadata": {},
   "outputs": [],
   "source": [
    "### CUSTOM LOSS FUNCTION ###\n",
    "\n",
    "### using keras as backed for loss function ###\n",
    "\n",
    "def custom_loss(y_true, y_pred):\n",
    "    \n",
    "    loss = K.square(y_pred - y_true) \n",
    "    loss = loss * 0.4\n",
    "    \n",
    "    \n",
    "    return loss"
   ]
  },
  {
   "cell_type": "code",
   "execution_count": 4,
   "id": "3fbf8908",
   "metadata": {},
   "outputs": [
    {
     "name": "stdout",
     "output_type": "stream",
     "text": [
      "WARNING:tensorflow:From C:\\Users\\juhop\\anaconda3\\envs\\bach\\lib\\site-packages\\tensorflow_core\\python\\ops\\resource_variable_ops.py:1630: calling BaseResourceVariable.__init__ (from tensorflow.python.ops.resource_variable_ops) with constraint is deprecated and will be removed in a future version.\n",
      "Instructions for updating:\n",
      "If using Keras pass *_constraint arguments to layers.\n"
     ]
    }
   ],
   "source": [
    "### CREATING NN MODEL ###\n",
    "\n",
    "model=Sequential([Dense(51,input_shape=(51,), activation=\"softplus\"),\n",
    "                  Dense(60,activation=\"softplus\"),\n",
    "                  Dense(80,activation=\"softplus\"),\n",
    "                  Dense(60,activation=\"softplus\"),  \n",
    "                  Dense(51)])\n",
    "\n",
    "model.compile(Adam(lr=0.001),loss=custom_loss)"
   ]
  },
  {
   "cell_type": "code",
   "execution_count": null,
   "id": "03630366",
   "metadata": {
    "scrolled": true
   },
   "outputs": [],
   "source": [
    "###TRAINING OF MODEL ###\n",
    "\n",
    "history = model.fit(X, Y, epochs=10, validation_split = 0.1)\n",
    "\n",
    "##callbacks= [keras.callbacks.EarlyStopping(patience=5)],"
   ]
  },
  {
   "cell_type": "code",
   "execution_count": 6,
   "id": "47ec58e8",
   "metadata": {},
   "outputs": [
    {
     "data": {
      "image/png": "[encoded data removed]",
      "text/plain": [
       "<Figure size 432x288 with 1 Axes>"
      ]
     },
     "metadata": {
      "needs_background": "light"
     },
     "output_type": "display_data"
    }
   ],
   "source": [
    "plt.plot(history.history['loss'])\n",
    "plt.plot(history.history['val_loss'])\n",
    "plt.title('model loss')\n",
    "plt.ylabel('loss')\n",
    "plt.xlabel('epoch')\n",
    "plt.legend(['train', 'val_loss'], loc='upper left')\n",
    "plt.show()"
   ]
  },
  {
   "cell_type": "code",
   "execution_count": 7,
   "id": "a7cf0dc8",
   "metadata": {
    "scrolled": true
   },
   "outputs": [
    {
     "name": "stdout",
     "output_type": "stream",
     "text": [
      "FEM: end displacement is 68.75 mm, rotation 5.909 deg\n",
      "MBD: end displacement is 68.05 mm, rotation 5.86 deg\n",
      "1001\n",
      "       0             1             2    3             4             5   \\\n",
      "0     0.0  0.000000e+00  0.000000e+00  1.0  0.000000e+00  0.000000e+00   \n",
      "1     0.0  0.000000e+00 -8.819793e-27  1.0  6.679600e-45 -1.159739e-28   \n",
      "2     0.0  0.000000e+00 -8.707829e-25  1.0  8.297699e-42  8.397711e-27   \n",
      "3     0.0  0.000000e+00  1.332720e-24  1.0 -3.133576e-42 -2.669398e-26   \n",
      "4     0.0  0.000000e+00  5.663199e-24  1.0 -2.019376e-41 -1.071484e-25   \n",
      "...   ...           ...           ...  ...           ...           ...   \n",
      "996   0.0  1.885731e-24  6.004801e-10  1.0  1.102348e-17  2.201904e-11   \n",
      "997   0.0  1.885731e-24  4.987441e-10  1.0  1.140942e-17  2.458164e-11   \n",
      "998   0.0  1.885731e-24  4.019713e-10  1.0  1.181480e-17  2.699559e-11   \n",
      "999   0.0  1.885731e-24  3.114922e-10  1.0  1.226136e-17  2.922335e-11   \n",
      "1000  0.0  1.885731e-24  2.286372e-10  1.0  1.277089e-17  3.122741e-11   \n",
      "\n",
      "                6         7             8             9   ...            41  \\\n",
      "0     0.000000e+00  0.500000  0.000000e+00  0.000000e+00  ...  0.000000e+00   \n",
      "1    -5.256014e-28  0.500000  1.637217e-10 -9.975373e-24  ...  1.434691e-07   \n",
      "2    -1.705338e-25  0.500000  3.438470e-09 -2.378598e-22  ...  4.774924e-07   \n",
      "3     1.227768e-25  0.500000  1.447645e-08 -8.494106e-22  ...  7.544195e-07   \n",
      "4     6.591197e-25  0.500000  4.716240e-08 -2.885039e-21  ...  7.832476e-07   \n",
      "...            ...       ...           ...           ...  ...           ...   \n",
      "996  -2.160290e-10  0.499454  2.551666e-02  3.270186e-09  ... -2.220878e-09   \n",
      "997  -2.219452e-10  0.499454  2.551666e-02  3.176723e-09  ... -1.618038e-09   \n",
      "998  -2.270254e-10  0.499454  2.551666e-02  3.080259e-09  ... -1.035891e-09   \n",
      "999  -2.311015e-10  0.499454  2.551666e-02  2.982318e-09  ... -2.709158e-10   \n",
      "1000 -2.340055e-10  0.499454  2.551666e-02  2.884422e-09  ...  8.804094e-10   \n",
      "\n",
      "                42            43            44            45            46  \\\n",
      "0     0.000000e+00  0.000000e+00  0.000000e+00  0.000000e+00  0.000000e+00   \n",
      "1    -2.520758e-08 -3.268303e-08  8.198580e-09  1.185698e-08  3.485286e-29   \n",
      "2    -1.232765e-07 -1.598348e-07  2.371500e-08  3.429718e-08 -3.437311e-27   \n",
      "3    -3.550065e-07 -4.602857e-07  1.728182e-08  2.499337e-08  1.389271e-26   \n",
      "4    -7.673228e-07 -9.948767e-07 -3.415912e-08 -4.940171e-08  1.332274e-25   \n",
      "...            ...           ...           ...           ...           ...   \n",
      "996  -1.929157e-10 -6.210286e-10 -5.076991e-10 -2.355540e-10 -5.245975e-11   \n",
      "997  -2.276381e-10 -4.980116e-10 -3.336130e-10 -1.724518e-10 -3.559720e-11   \n",
      "998  -2.932468e-10 -3.389181e-10 -1.437774e-10 -1.093951e-10 -1.948434e-11   \n",
      "999  -1.459845e-10 -1.337122e-10 -5.272283e-11  3.441463e-11 -2.302157e-11   \n",
      "1000  4.579061e-10  1.276425e-10 -1.749799e-10  3.397763e-10 -6.510925e-11   \n",
      "\n",
      "                47            48            49            50  \n",
      "0     0.000000e+00  0.000000e+00  0.000000e+00  0.000000e+00  \n",
      "1     5.020350e-10  2.599085e-10  1.331060e-18  9.483068e-10  \n",
      "2     8.763332e-09  4.536865e-09  2.691947e-16  1.395230e-08  \n",
      "3     4.921669e-08  2.547998e-08 -1.438600e-16  5.593421e-08  \n",
      "4     1.411428e-07  7.307107e-08 -4.651542e-15  1.663053e-07  \n",
      "...            ...           ...           ...           ...  \n",
      "996   1.500496e-10  2.666252e-10 -2.201838e-12  6.804995e-02  \n",
      "997   1.139268e-10  1.746915e-10 -1.570091e-12  6.804995e-02  \n",
      "998   8.107994e-11  7.265039e-11 -1.142278e-12  6.804995e-02  \n",
      "999   9.949938e-12  2.929395e-11 -1.621530e-12  6.804995e-02  \n",
      "1000 -1.410223e-10  1.134144e-10 -3.710981e-12  6.804995e-02  \n",
      "\n",
      "[1001 rows x 51 columns]\n",
      "0       0.000000e+00\n",
      "1       9.483068e-10\n",
      "2       1.395230e-08\n",
      "3       5.593421e-08\n",
      "4       1.663053e-07\n",
      "            ...     \n",
      "996     6.804995e-02\n",
      "997     6.804995e-02\n",
      "998     6.804995e-02\n",
      "999     6.804995e-02\n",
      "1000    6.804995e-02\n",
      "Name: 50, Length: 1001, dtype: float64\n"
     ]
    },
    {
     "data": {
      "image/png": "[encoded data removed]",
      "text/plain": [
       "<Figure size 432x288 with 1 Axes>"
      ]
     },
     "metadata": {
      "needs_background": "light"
     },
     "output_type": "display_data"
    }
   ],
   "source": [
    "### Creating testing data ###\n",
    "n_elem = 40\n",
    "l = 1\n",
    "h = 0.02\n",
    "E = 2e11\n",
    "nu = 0.3\n",
    "rho = 7801\n",
    "Fy = 600.0\n",
    "\n",
    "testvals = cbe.generate(n_elem, l, h, E, nu, rho, Fy=550) ## Generating testing data##\n",
    "dframe2 = pd.DataFrame() ##Creating Pandas DF from data ##\n",
    "\n",
    "for i in range(len(testvals[0])):\n",
    "       dframe2[i] = pd.DataFrame(testvals[0][i])\n",
    "        \n",
    "dframe2[50] = pd.DataFrame(testvals[1])\n",
    "\n",
    "\n",
    "\n",
    "\n",
    "\n",
    "timeframe = pd.DataFrame(range(len(testvals[1]+1)), columns=[\"Time\"]) ## For plotting resutlts\n",
    "\n",
    "\n",
    "print(dframe2)\n",
    "\n",
    "Y2 = dframe2[50]\n",
    "X2 = dframe2\n",
    "\n",
    "print (Y2)"
   ]
  },
  {
   "cell_type": "code",
   "execution_count": 8,
   "id": "830b0808",
   "metadata": {
    "scrolled": false
   },
   "outputs": [
    {
     "name": "stdout",
     "output_type": "stream",
     "text": [
      "900/900 [==============================] - 0s 69us/step\n",
      "3.9613699654081657e-07\n"
     ]
    },
    {
     "data": {
      "image/png": "[encoded data removed]",
      "text/plain": [
       "<Figure size 432x288 with 1 Axes>"
      ]
     },
     "metadata": {
      "needs_background": "light"
     },
     "output_type": "display_data"
    }
   ],
   "source": [
    "#### Test ####\n",
    "\n",
    "results = model.evaluate(X, Y)\n",
    "print(results)\n",
    "\n",
    "y_pred = [] ## List for predictions\n",
    "for row in X2.itertuples(): ## Iterates trough test set getting predictions\n",
    "\n",
    "    xr = model.predict(np.array(X2))\n",
    "    y_pred.append(float(xr[0]))\n",
    " \n",
    "\n",
    "plt.plot(timeframe, Y2)\n",
    "plt.plot(timeframe, y_pred, linestyle='dashed', color='red')\n",
    "\n",
    "plt.xlabel('t')\n",
    "plt.legend([' REAL position',  'Predicted position'], shadow=True)\n",
    "plt.title('BEAM System')\n",
    "plt.show()"
   ]
  },
  {
   "cell_type": "code",
   "execution_count": null,
   "id": "00b430e3",
   "metadata": {},
   "outputs": [],
   "source": []
  },
  {
   "cell_type": "code",
   "execution_count": null,
   "id": "255f7784",
   "metadata": {},
   "outputs": [],
   "source": [
    "#pd.set_option(\"display.max_rows\", None, \"display.max_columns\", None)"
   ]
  }
 ],
 "metadata": {
  "kernelspec": {
   "display_name": "Python 3 (ipykernel)",
   "language": "python",
   "name": "python3"
  },
  "language_info": {
   "codemirror_mode": {
    "name": "ipython",
    "version": 3
   },
   "file_extension": ".py",
   "mimetype": "text/x-python",
   "name": "python",
   "nbconvert_exporter": "python",
   "pygments_lexer": "ipython3",
   "version": "3.7.9"
  }
 },
 "nbformat": 4,
 "nbformat_minor": 5
}
